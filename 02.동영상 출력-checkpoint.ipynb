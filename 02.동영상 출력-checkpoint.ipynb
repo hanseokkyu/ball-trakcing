{
 "cells": [
  {
   "cell_type": "markdown",
   "id": "c5fbca3b",
   "metadata": {},
   "source": [
    "## 2. 동영상 출력"
   ]
  },
  {
   "cell_type": "code",
   "execution_count": null,
   "id": "a63467f6",
   "metadata": {},
   "outputs": [],
   "source": [
    "##동영상 파일 출력"
   ]
  },
  {
   "cell_type": "code",
   "execution_count": 4,
   "id": "226e7232",
   "metadata": {},
   "outputs": [
    {
     "name": "stdout",
     "output_type": "stream",
     "text": [
      "사용자의 의해 종료\n"
     ]
    }
   ],
   "source": [
    "import cv2\n",
    "cap = cv2.VideoCapture('video.mp4')\n",
    "\n",
    "while cap.isOpened():  #동영상 파일이 올바르게 열렸는지? \n",
    "    ret, frame = cap.read() #ret : 성공여부, frame = 받아온 이미지(프레임)\n",
    "    if not ret:\n",
    "        print(\"더 이상 가져올 프레임이 없어요\")\n",
    "        break\n",
    "    cv2.imshow('video',frame)\n",
    "    \n",
    "    if cv2.waitKey(1) == ord('q'):\n",
    "        print(\"사용자의 의해 종료\")\n",
    "        break\n",
    "cap.release() # 자원 해체\n",
    "cv2.destroyAllWindows() # 모든 창 닫기         "
   ]
  },
  {
   "cell_type": "code",
   "execution_count": 5,
   "id": "e178f593",
   "metadata": {},
   "outputs": [],
   "source": [
    "## 카메라 출력"
   ]
  },
  {
   "cell_type": "code",
   "execution_count": null,
   "id": "ef5261c0",
   "metadata": {},
   "outputs": [],
   "source": [
    "import cv2\n",
    "cap = cv2.VideoCapture(0) # 0번째 카메라 장치 (Device ID)\n",
    "\n",
    "if not cap.isOpened(): #키메라가 잘 열리지 않은 경우 \n",
    "    exit()  #프로그램 종료\n",
    "\n",
    "while True:\n",
    "    ret, frame = cap.read()\n",
    "    if not ret:\n",
    "        break\n",
    "    cv2.imshow('camera',frame)\n",
    "    if cv2.waitKey(1) == ord('q'):\n",
    "        break\n",
    "        \n",
    "cap.release()\n",
    "cv2.destroyAllWindows()"
   ]
  },
  {
   "cell_type": "code",
   "execution_count": null,
   "id": "c87269aa",
   "metadata": {},
   "outputs": [],
   "source": []
  },
  {
   "cell_type": "code",
   "execution_count": null,
   "id": "752fdf71",
   "metadata": {},
   "outputs": [],
   "source": []
  },
  {
   "cell_type": "code",
   "execution_count": null,
   "id": "ba90503c",
   "metadata": {},
   "outputs": [],
   "source": []
  }
 ],
 "metadata": {
  "kernelspec": {
   "display_name": "Python 3 (ipykernel)",
   "language": "python",
   "name": "python3"
  },
  "language_info": {
   "codemirror_mode": {
    "name": "ipython",
    "version": 3
   },
   "file_extension": ".py",
   "mimetype": "text/x-python",
   "name": "python",
   "nbconvert_exporter": "python",
   "pygments_lexer": "ipython3",
   "version": "3.9.7"
  }
 },
 "nbformat": 4,
 "nbformat_minor": 5
}
