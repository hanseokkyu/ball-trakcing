{
 "cells": [
  {
   "cell_type": "code",
   "execution_count": 8,
   "id": "ba97502a",
   "metadata": {},
   "outputs": [],
   "source": [
    "import cv2\n",
    "import numpy as np\n",
    "\n",
    "color = [255,0,0]   ##BGR로 파란색 \n",
    "pixel = np.uint8([[color]])  ##CV2 운영으로 활용하기 위해 변환\n",
    "\n",
    "hsv = cv2.cvtColor(pixel,cv2.COLOR_BGR2HSV)  #HSV색 공간으로 변환\n",
    "hsv = hsv[0][0]  #픽셀값 가져오기 \n",
    "\n",
    "print = ('bgr:',color)   \n",
    "print = (\"hsv:\",hsv)\n"
   ]
  },
  {
   "cell_type": "code",
   "execution_count": 2,
   "id": "2ef69a05",
   "metadata": {},
   "outputs": [],
   "source": [
    "import cv2\n",
    "import numpy as np\n",
    "\n",
    "color = [255,0,0]   ##BGR로 파란색 \n",
    "pixel = np.uint8([[color]])  ##CV2 운영으로 활용하기 위해 변환\n",
    "\n",
    "hsv = cv2.cvtColor(pixel,cv2.COLOR_BGR2HSV)  #HSV색 공간으로 변환\n",
    "hsv = hsv[0][0]  #픽셀값 가져오기 \n",
    "\n",
    "img_color = cv2.imread('color.jpg')\n",
    "heigt , width = img_color.shape[:2]\n",
    "\n",
    "img_hsv = cv2.cvtColor(img_color,cv2.COLOR_BGR2HSV)   #HSV 이미지로 변환 - cvtcolor함수 활용\n",
    "           #범위 내에 있는 픽셀은 흰색이 되고 나머지는 검은색으로 송출\n",
    "lower_blue = (120-10,30,30)  ## 범위를 정해서 색 정함\n",
    "upper_blue = (120+10,255,255) # 오차를 조절\n",
    "img_mask = cv2.inRange(img_hsv,lower_blue,upper_blue)  #범위 이미지를 mask에 입력\n",
    "\n",
    "img_result = cv2.bitwise_and(img_color,img_color,mask = img_mask)  ##원본 이미지에서 마스크에 나온 특정색을 추출\n",
    "\n",
    "cv2.imshow('img_color',img_color)  \n",
    "cv2.imshow('img_mask',img_mask)\n",
    "cv2.imshow('img_result',img_result)\n",
    "\n",
    "cv2.waitKey(0)\n",
    "cv2.destroyAllWindows()"
   ]
  },
  {
   "cell_type": "code",
   "execution_count": null,
   "id": "c4801310",
   "metadata": {},
   "outputs": [],
   "source": []
  },
  {
   "cell_type": "code",
   "execution_count": null,
   "id": "c1528c47",
   "metadata": {},
   "outputs": [],
   "source": []
  }
 ],
 "metadata": {
  "kernelspec": {
   "display_name": "Python 3 (ipykernel)",
   "language": "python",
   "name": "python3"
  },
  "language_info": {
   "codemirror_mode": {
    "name": "ipython",
    "version": 3
   },
   "file_extension": ".py",
   "mimetype": "text/x-python",
   "name": "python",
   "nbconvert_exporter": "python",
   "pygments_lexer": "ipython3",
   "version": "3.9.12"
  }
 },
 "nbformat": 4,
 "nbformat_minor": 5
}
