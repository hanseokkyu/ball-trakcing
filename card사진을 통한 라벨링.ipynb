{
 "cells": [
  {
   "cell_type": "code",
   "execution_count": 24,
   "id": "424ea428",
   "metadata": {},
   "outputs": [],
   "source": [
    "import cv2\n",
    "import numpy as np\n",
    "\n",
    "img = cv2.imread('card.png',cv2.IMREAD_GRAYSCALE)\n",
    "\n",
    "_,img_bin = cv2.threshold(img,0,255,cv2.THRESH_OTSU)\n",
    "cnt , labels, stats, centroids = cv2.connectedComponentsWithStats(img_bin)\n",
    "dst = cv2.cvtColor(img,cv2.COLOR_GRAY2BGR)\n",
    "\n",
    "for i in range(1,cnt):\n",
    "    (x,y,w,h,area) = stats[i]\n",
    "    \n",
    "    if area<:\n",
    "        continue\n",
    "    cv2.rectangle(dst,(x,y,w,h),(0,255,255))\n",
    "\n",
    "\n",
    "cv2.imshow('img',img)\n",
    "cv2.imshow('img_bin',img_bin)\n",
    "cv2.imshow('dst',dst)\n",
    "cv2.waitKey()\n",
    "cv2.destroyAllWindows()"
   ]
  },
  {
   "cell_type": "code",
   "execution_count": null,
   "id": "8a901f8e",
   "metadata": {},
   "outputs": [],
   "source": []
  }
 ],
 "metadata": {
  "kernelspec": {
   "display_name": "Python 3 (ipykernel)",
   "language": "python",
   "name": "python3"
  },
  "language_info": {
   "codemirror_mode": {
    "name": "ipython",
    "version": 3
   },
   "file_extension": ".py",
   "mimetype": "text/x-python",
   "name": "python",
   "nbconvert_exporter": "python",
   "pygments_lexer": "ipython3",
   "version": "3.9.12"
  }
 },
 "nbformat": 4,
 "nbformat_minor": 5
}
