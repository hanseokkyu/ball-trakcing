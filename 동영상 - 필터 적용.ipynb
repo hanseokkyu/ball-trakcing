{
 "cells": [
  {
   "cell_type": "code",
   "execution_count": 1,
   "id": "deaffe2c",
   "metadata": {},
   "outputs": [],
   "source": [
    "import cv2\n",
    "import numpy as np\n",
    "\n",
    "cap = cv2.VideoCapture('ball tracking.mp4')\n",
    "fps = 30\n",
    "\n",
    "while cap.isOpened():\n",
    "    ret, frame = cap.read()\n",
    "\n",
    "    if not ret:\n",
    "        print(\"x\")\n",
    "        break\n",
    "    blurred = cv2.GaussianBlur(frame,(11,11),0)\n",
    "    gray = cv2.cvtColor(blurred,cv2.COLOR_BGR2GRAY)\n",
    "    img = cv2.cvtColor(frame, cv2.IMREAD_COLOR)\n",
    "    \n",
    "    kernel = np.ones((11,11),np.uint8)\n",
    "    cap_mask1 = cv2.morphologyEx(img,cv2.MORPH_OPEN,kernel)\n",
    "    cap_mask2 = cv2.morphologyEx(cap_mask1,cv2.MORPH_CLOSE,kernel)    \n",
    "    cv2.imshow('morphologyEx1',cap_mask1)   ##모폴로지 오픈 \n",
    "    cv2.imshow('morphologyEx2',cap_mask2)   ##모폴로지  클로즈\n",
    "    cv2.imshow('video',frame)      ##원본\n",
    "    cv2.imshow('gray',gray)     ##가우시안 블러 사용한 그레이스케일\n",
    "    \n",
    "    if cv2.waitKey(20) == ord('q'):\n",
    "        break\n",
    "        \n",
    "\n",
    "cv2.imshow('morphologyEx1',cap_mask1)   ##모폴로지 오픈 \n",
    "cv2.imshow('morphologyEx2',cap_mask2)   ##모폴로지  클로즈\n",
    "cv2.imshow('video',frame)      ##원본\n",
    "cv2.imshow('gray',gray)     ##가우시안 블러 사용한 그레이스케일\n",
    "cap.release()\n",
    "cv2.destroyAllWindows()\n",
    "\n"
   ]
  },
  {
   "cell_type": "code",
   "execution_count": null,
   "id": "1be273b8",
   "metadata": {},
   "outputs": [],
   "source": []
  },
  {
   "cell_type": "code",
   "execution_count": null,
   "id": "67669f89",
   "metadata": {},
   "outputs": [],
   "source": []
  }
 ],
 "metadata": {
  "kernelspec": {
   "display_name": "Python 3 (ipykernel)",
   "language": "python",
   "name": "python3"
  },
  "language_info": {
   "codemirror_mode": {
    "name": "ipython",
    "version": 3
   },
   "file_extension": ".py",
   "mimetype": "text/x-python",
   "name": "python",
   "nbconvert_exporter": "python",
   "pygments_lexer": "ipython3",
   "version": "3.9.12"
  }
 },
 "nbformat": 4,
 "nbformat_minor": 5
}
